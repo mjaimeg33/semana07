{
 "cells": [
  {
   "cell_type": "markdown",
   "id": "36609a41",
   "metadata": {},
   "source": [
    "# Semana 07\n",
    "Jaime Giancarlo Matheus Guerra"
   ]
  },
  {
   "cell_type": "markdown",
   "id": "05438a89",
   "metadata": {},
   "source": [
    "# Temas:\n",
    "    1. Numeros\n",
    "    2. Variables\n",
    "    3. Manejo de cadenas\n",
    "    4. Ingreso de Datos por el teclado\n",
    "    5. Operadores"
   ]
  },
  {
   "cell_type": "raw",
   "id": "4470440d",
   "metadata": {},
   "source": [
    "3. Manejo de cadenas\n"
   ]
  },
  {
   "cell_type": "code",
   "execution_count": 1,
   "id": "d8bfb46d",
   "metadata": {},
   "outputs": [
    {
     "data": {
      "text/plain": [
       "'Universidad Nacional Tecnológica de Lima Sur'"
      ]
     },
     "execution_count": 1,
     "metadata": {},
     "output_type": "execute_result"
    }
   ],
   "source": [
    "cadena = \"Universidad Nacional Tecnológica de Lima Sur\"\n",
    "cadena"
   ]
  },
  {
   "cell_type": "code",
   "execution_count": 2,
   "id": "ecc11ec2",
   "metadata": {},
   "outputs": [],
   "source": [
    "#Universidad Nacional Tecnológica de Lima Sur\n",
    "#01234....\n",
    "#                                       -2 -1"
   ]
  },
  {
   "cell_type": "code",
   "execution_count": 3,
   "id": "0aa148c4",
   "metadata": {},
   "outputs": [
    {
     "data": {
      "text/plain": [
       "'r'"
      ]
     },
     "execution_count": 3,
     "metadata": {},
     "output_type": "execute_result"
    }
   ],
   "source": [
    "cadena[5]"
   ]
  },
  {
   "cell_type": "code",
   "execution_count": 4,
   "id": "47860d3d",
   "metadata": {},
   "outputs": [
    {
     "data": {
      "text/plain": [
       "'d'"
      ]
     },
     "execution_count": 4,
     "metadata": {},
     "output_type": "execute_result"
    }
   ],
   "source": [
    "cadena[10]"
   ]
  },
  {
   "cell_type": "code",
   "execution_count": 7,
   "id": "f3ea53aa",
   "metadata": {},
   "outputs": [
    {
     "data": {
      "text/plain": [
       "'r'"
      ]
     },
     "execution_count": 7,
     "metadata": {},
     "output_type": "execute_result"
    }
   ],
   "source": [
    "cadena[-1]"
   ]
  },
  {
   "cell_type": "code",
   "execution_count": 8,
   "id": "da90e9f7",
   "metadata": {},
   "outputs": [
    {
     "data": {
      "text/plain": [
       "'a'"
      ]
     },
     "execution_count": 8,
     "metadata": {},
     "output_type": "execute_result"
    }
   ],
   "source": [
    "cadena[-5]"
   ]
  },
  {
   "cell_type": "code",
   "execution_count": 9,
   "id": "74a60361",
   "metadata": {},
   "outputs": [
    {
     "data": {
      "text/plain": [
       "'T'"
      ]
     },
     "execution_count": 9,
     "metadata": {},
     "output_type": "execute_result"
    }
   ],
   "source": [
    "cadena[21]"
   ]
  },
  {
   "cell_type": "code",
   "execution_count": 10,
   "id": "5fd7aba7",
   "metadata": {},
   "outputs": [
    {
     "data": {
      "text/plain": [
       "'T'"
      ]
     },
     "execution_count": 10,
     "metadata": {},
     "output_type": "execute_result"
    }
   ],
   "source": [
    "# tAMBIÉN LO PUEDO MOSTRAR ACCEDIENDO DE MANERA INVERSA\n",
    "cadena[-23]"
   ]
  },
  {
   "cell_type": "code",
   "execution_count": 11,
   "id": "4fcfce3e",
   "metadata": {},
   "outputs": [
    {
     "data": {
      "text/plain": [
       "'versi'"
      ]
     },
     "execution_count": 11,
     "metadata": {},
     "output_type": "execute_result"
    }
   ],
   "source": [
    "#Para mostrar una subcadena [desde, hasta una antes]\n",
    "# En java era substring()\n",
    "cadena[3:8]"
   ]
  },
  {
   "cell_type": "code",
   "execution_count": 12,
   "id": "e0fe0a1e",
   "metadata": {},
   "outputs": [
    {
     "data": {
      "text/plain": [
       "44"
      ]
     },
     "execution_count": 12,
     "metadata": {},
     "output_type": "execute_result"
    }
   ],
   "source": [
    "# parasaber el tamaño de una cadena utilizamos len()\n",
    "# incluye espacios en blanco\n",
    "len(cadena)"
   ]
  },
  {
   "cell_type": "code",
   "execution_count": 13,
   "id": "ad6cbad2",
   "metadata": {},
   "outputs": [
    {
     "data": {
      "text/plain": [
       "'UNIVERSIDAD NACIONAL TECNOLÓGICA DE LIMA SUR'"
      ]
     },
     "execution_count": 13,
     "metadata": {},
     "output_type": "execute_result"
    }
   ],
   "source": [
    "# para mostrar una cadena en mayúsuclas utilizas upper()\n",
    "cadena.upper()"
   ]
  },
  {
   "cell_type": "code",
   "execution_count": 14,
   "id": "7419f6cd",
   "metadata": {},
   "outputs": [
    {
     "data": {
      "text/plain": [
       "'Universidad Nacional Tecnológica de Lima Sur'"
      ]
     },
     "execution_count": 14,
     "metadata": {},
     "output_type": "execute_result"
    }
   ],
   "source": [
    "# Ojo..... solo lo muestra, porque el orginal sigue siendo igual\n",
    "cadena"
   ]
  },
  {
   "cell_type": "code",
   "execution_count": 16,
   "id": "8661f0c0",
   "metadata": {},
   "outputs": [
    {
     "data": {
      "text/plain": [
       "'universidad nacional tecnológica de lima sur'"
      ]
     },
     "execution_count": 16,
     "metadata": {},
     "output_type": "execute_result"
    }
   ],
   "source": [
    "#Para mostrar una cadena en minúscula utilizas .lower()\n",
    "cadena.lower()"
   ]
  },
  {
   "cell_type": "code",
   "execution_count": 17,
   "id": "43e9a6f5",
   "metadata": {},
   "outputs": [
    {
     "data": {
      "text/plain": [
       "['Universidad', 'Nacional', 'Tecnológica', 'de', 'Lima', 'Sur']"
      ]
     },
     "execution_count": 17,
     "metadata": {},
     "output_type": "execute_result"
    }
   ],
   "source": [
    "# Generar una lista a partir de una cadena .split()\n",
    "cadena.split()"
   ]
  },
  {
   "cell_type": "code",
   "execution_count": 22,
   "id": "ef4057ff",
   "metadata": {},
   "outputs": [
    {
     "data": {
      "text/plain": [
       "['Universid', 'd N', 'cion', 'l Tecnológic', ' de Lim', ' Sur']"
      ]
     },
     "execution_count": 22,
     "metadata": {},
     "output_type": "execute_result"
    }
   ],
   "source": [
    "#Generar una lista utilizando un criterio de separación a partir de una cadena .split()\n",
    "#En este caso vamos a generar una lista de toda la cadena\n",
    "#utilizando como criterio de separación la letra \"A\"\n",
    "cadena.split('a')"
   ]
  },
  {
   "cell_type": "code",
   "execution_count": 24,
   "id": "3b4ff8fa",
   "metadata": {},
   "outputs": [
    {
     "name": "stdout",
     "output_type": "stream",
     "text": [
      "Buenas tardes Jaime Matheus\n"
     ]
    }
   ],
   "source": [
    "# Forma clásica, concatenar con + \n",
    "nombre = \"Jaime Matheus\"\n",
    "print( \"Buenas tardes \" + nombre)"
   ]
  },
  {
   "cell_type": "code",
   "execution_count": 28,
   "id": "32056c59",
   "metadata": {},
   "outputs": [
    {
     "name": "stdout",
     "output_type": "stream",
     "text": [
      "hola Ricardo Joel ya se que tienes 13 años\n"
     ]
    }
   ],
   "source": [
    "#Utilizando el .format()\n",
    "nombre =\"Ricardo Joel\"\n",
    "edad = 13\n",
    "print(\"hola {} ya se que tienes {} años\" .format(nombre,edad))"
   ]
  },
  {
   "cell_type": "code",
   "execution_count": 38,
   "id": "b7f585fc",
   "metadata": {},
   "outputs": [
    {
     "name": "stdout",
     "output_type": "stream",
     "text": [
      "10/3 es = 3.3333333333333335 \n",
      "10/3 es = 3.333\n"
     ]
    }
   ],
   "source": [
    "#Dar formato a números con muchos decimales\n",
    "resultado = 10/3 \n",
    "print(\"10/3 es = {} \".format(resultado))\n",
    "print(\"10/3 es = {r:1.3f}\" .format(r=resultado))"
   ]
  },
  {
   "cell_type": "code",
   "execution_count": 40,
   "id": "53c857db",
   "metadata": {},
   "outputs": [
    {
     "name": "stdout",
     "output_type": "stream",
     "text": [
      "10/3 es = 3.3333333333333335\n",
      "10/3 es = 3.333\n"
     ]
    }
   ],
   "source": [
    "# Dar formato a números con muchos decimales con f\n",
    "resultado = 10/3 \n",
    "print(f\"10/3 es = {resultado}\")\n",
    "print(f\"10/3 es = {resultado:1.3f}\")"
   ]
  },
  {
   "cell_type": "code",
   "execution_count": null,
   "id": "fded2e5b",
   "metadata": {},
   "outputs": [],
   "source": []
  },
  {
   "cell_type": "code",
   "execution_count": null,
   "id": "6799a092",
   "metadata": {},
   "outputs": [],
   "source": []
  }
 ],
 "metadata": {
  "kernelspec": {
   "display_name": "Python 3 (ipykernel)",
   "language": "python",
   "name": "python3"
  },
  "language_info": {
   "codemirror_mode": {
    "name": "ipython",
    "version": 3
   },
   "file_extension": ".py",
   "mimetype": "text/x-python",
   "name": "python",
   "nbconvert_exporter": "python",
   "pygments_lexer": "ipython3",
   "version": "3.11.3"
  }
 },
 "nbformat": 4,
 "nbformat_minor": 5
}
