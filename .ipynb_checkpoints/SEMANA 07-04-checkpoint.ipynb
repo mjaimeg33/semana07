{
 "cells": [
  {
   "cell_type": "markdown",
   "id": "36609a41",
   "metadata": {},
   "source": [
    "# Semana 07\n",
    "Jaime Giancarlo Matheus Guerra"
   ]
  },
  {
   "cell_type": "markdown",
   "id": "05438a89",
   "metadata": {},
   "source": [
    "# Temas:\n",
    "    1. Numeros\n",
    "    2. Variables\n",
    "    3. Manejo de cadenas\n",
    "    4. Ingreso de Datos por el teclado\n",
    "    5. Operadores"
   ]
  },
  {
   "cell_type": "raw",
   "id": "4470440d",
   "metadata": {},
   "source": [
    "4. Ingreso de datos por teclado"
   ]
  },
  {
   "cell_type": "code",
   "execution_count": 1,
   "id": "d8bfb46d",
   "metadata": {},
   "outputs": [
    {
     "name": "stdout",
     "output_type": "stream",
     "text": [
      "¿Cuál es tu nombre\n",
      "Jaime\n",
      "holaJaime\n"
     ]
    }
   ],
   "source": [
    "# Función input()\n",
    "print(\"¿Cuál es tu nombre\")\n",
    "nombre =input()\n",
    "print(\"hola\"+nombre)"
   ]
  },
  {
   "cell_type": "code",
   "execution_count": 5,
   "id": "ecc11ec2",
   "metadata": {},
   "outputs": [
    {
     "name": "stdout",
     "output_type": "stream",
     "text": [
      "número 1: \n",
      "5\n",
      "número 2:\n",
      "5\n",
      "El resultado es 10\n"
     ]
    }
   ],
   "source": [
    "# Cuando ingresa un valor por teclado lo hace como cadena\n",
    "print(\"número 1: \")\n",
    "numero1 = input()\n",
    "print(\"número 2:\")\n",
    "numero2 = input()\n",
    "numero3 = int(numero1) + int(numero2)\n",
    "print(f\"El resultado es {numero3}\")"
   ]
  },
  {
   "cell_type": "code",
   "execution_count": null,
   "id": "0aa148c4",
   "metadata": {},
   "outputs": [],
   "source": []
  }
 ],
 "metadata": {
  "kernelspec": {
   "display_name": "Python 3 (ipykernel)",
   "language": "python",
   "name": "python3"
  },
  "language_info": {
   "codemirror_mode": {
    "name": "ipython",
    "version": 3
   },
   "file_extension": ".py",
   "mimetype": "text/x-python",
   "name": "python",
   "nbconvert_exporter": "python",
   "pygments_lexer": "ipython3",
   "version": "3.11.3"
  }
 },
 "nbformat": 4,
 "nbformat_minor": 5
}
